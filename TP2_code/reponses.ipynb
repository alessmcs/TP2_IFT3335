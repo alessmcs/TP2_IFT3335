{
 "cells": [
  {
   "metadata": {},
   "cell_type": "markdown",
   "source": [
    "Quelle méthode (BoW ou TF-IDF) donne les meilleurs résultats ? Pourquoi pensez- vous que c’est le cas ?\n",
    "LR: bow \n",
    "\n",
    "\n",
    "Que se passe-t-il pour les metriques si vous diminuez max features ? (Montrez un graphique)"
   ],
   "id": "92c89f9e11c19bca"
  }
 ],
 "metadata": {
  "kernelspec": {
   "display_name": "Python 3",
   "language": "python",
   "name": "python3"
  },
  "language_info": {
   "codemirror_mode": {
    "name": "ipython",
    "version": 2
   },
   "file_extension": ".py",
   "mimetype": "text/x-python",
   "name": "python",
   "nbconvert_exporter": "python",
   "pygments_lexer": "ipython2",
   "version": "2.7.6"
  }
 },
 "nbformat": 4,
 "nbformat_minor": 5
}
