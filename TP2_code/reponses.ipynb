{
 "cells": [
  {
   "metadata": {
    "ExecuteTime": {
     "end_time": "2025-05-02T18:40:34.020834Z",
     "start_time": "2025-05-02T18:40:34.002147Z"
    }
   },
   "cell_type": "code",
   "source": [
    "import importlib\n",
    "import main\n",
    "\n",
    "importlib.reload(main)"
   ],
   "id": "fb70f2051f5e913c",
   "outputs": [
    {
     "data": {
      "text/plain": [
       "<module 'main' from '/Users/alessandramancas/Desktop/uni/IFT3335/TP2_IFT3335/TP2_code/main.py'>"
      ]
     },
     "execution_count": 128,
     "metadata": {},
     "output_type": "execute_result"
    }
   ],
   "execution_count": 128
  },
  {
   "metadata": {
    "ExecuteTime": {
     "end_time": "2025-05-02T18:21:08.476766Z",
     "start_time": "2025-05-02T18:21:08.473702Z"
    }
   },
   "cell_type": "code",
   "source": [
    "import os.path\n",
    "import sys\n",
    "\n",
    "import pandas as pd\n",
    "import numpy as np\n",
    "from collections.abc import Sequence\n",
    "from sklearn import linear_model\n",
    "from sklearn.feature_extraction.text import CountVectorizer, TfidfVectorizer\n",
    "from sklearn.ensemble import RandomForestClassifier\n",
    "from sklearn.linear_model import LogisticRegression\n",
    "from sklearn.metrics import accuracy_score, f1_score\n",
    "from sklearn.model_selection import train_test_split, cross_val_score\n",
    "from sklearn.neural_network import MLPClassifier\n",
    "from sklearn import metrics\n",
    "from sklearn import svm\n",
    "from sentence_transformers import SentenceTransformer\n",
    "from tqdm import tqdm\n",
    "\n",
    "import matplotlib\n",
    "import transformers\n",
    "import re  # regex library\n",
    "\n",
    "import mlens\n",
    "from mlens.ensemble import SuperLearner"
   ],
   "id": "4bf04647867505c4",
   "outputs": [],
   "execution_count": 100
  },
  {
   "metadata": {
    "ExecuteTime": {
     "end_time": "2025-05-02T18:21:08.830836Z",
     "start_time": "2025-05-02T18:21:08.606451Z"
    }
   },
   "cell_type": "code",
   "source": [
    "# Prétraitement & splitting des datasets \n",
    "df = pd.read_csv('spam_train.csv')\n",
    "\n",
    "# Preprocess the data\n",
    "df['text'] = main.pretraitement(df['text'])\n",
    "df['label'] = pd.to_numeric(df['label'], downcast='integer', errors='coerce')\n",
    "# print(df.head())\n",
    "\n",
    "fm = main.bag_of_words(df['text'], 5000)\n",
    "fm_train, fm_test, y1_train, y1_test = train_test_split(fm, df['label'], random_state=42)\n",
    "# print(fm.head)\n",
    "\n",
    "tfidf = main.tf_idf(df['text'], 5000)\n",
    "tfidf_train, tfidf_test, y2_train, y2_test = train_test_split(tfidf, df['label'], random_state=42)\n",
    "# print(tfidf_train.head)\n"
   ],
   "id": "fe470b8915fbcf7c",
   "outputs": [],
   "execution_count": 101
  },
  {
   "metadata": {
    "ExecuteTime": {
     "end_time": "2025-05-02T18:21:08.872570Z",
     "start_time": "2025-05-02T18:21:08.868588Z"
    }
   },
   "cell_type": "code",
   "source": [
    "models = {\n",
    "    \"Logistic Regression\": linear_model.LogisticRegression(),\n",
    "    \"Random Forest\": RandomForestClassifier(),\n",
    "    \"MultiLayer Perceptron\": MLPClassifier()\n",
    "}\n",
    "\n",
    "scores_global = {\n",
    "    \"Logistic Regression\": [],\n",
    "    \"Random Forest\": [],\n",
    "    \"MultiLayer Perceptron\": []\n",
    "}\n",
    "\n",
    "\n"
   ],
   "id": "80ffaff4f3c1a7f7",
   "outputs": [],
   "execution_count": 102
  },
  {
   "metadata": {},
   "cell_type": "markdown",
   "source": "### Partie 1 ###",
   "id": "f5ae0d15b17000cd"
  },
  {
   "metadata": {
    "ExecuteTime": {
     "end_time": "2025-05-02T18:22:14.290994Z",
     "start_time": "2025-05-02T18:21:08.905656Z"
    }
   },
   "cell_type": "code",
   "source": [
    "\n",
    "for model in models:\n",
    "    print(\"training model \" + model)\n",
    "\n",
    "    # BoW & TF-IDF (partie 1)\n",
    "    classifier = models[model]\n",
    "    bow_cross_val, bow_accuracy, bow_f1 = main.train_model(classifier, fm_train, y1_train, fm_test, y1_test)\n",
    "    tfidf_cross_val, tfidf_accuracy, tfidf_f1 = main.train_model(classifier, tfidf_train, y2_train, tfidf_test, y2_test)\n",
    "    \n",
    "    scores_global[model].append([bow_cross_val, bow_accuracy, bow_f1])\n",
    "    scores_global[model].append([tfidf_cross_val, tfidf_accuracy, tfidf_f1])\n",
    "\n",
    "    print('bow cross_val', bow_cross_val)\n",
    "    print('bow accuracy', bow_accuracy)\n",
    "    print('bow f1', bow_f1, '\\n')\n",
    "\n",
    "    print('tfidf cross_val', tfidf_cross_val)\n",
    "    print('tfidf accuracy', tfidf_accuracy)\n",
    "    print('tfidf f1', tfidf_f1, '\\n')"
   ],
   "id": "3b15962422eb4e7f",
   "outputs": [
    {
     "name": "stdout",
     "output_type": "stream",
     "text": [
      "training model Logistic Regression\n",
      "bow cross_val 0.9713004484304933\n",
      "bow accuracy 0.9874439461883409\n",
      "bow f1 0.9477611940298507 \n",
      "\n",
      "tfidf cross_val 0.8968609865470853\n",
      "tfidf accuracy 0.957847533632287\n",
      "tfidf f1 0.8 \n",
      "\n",
      "training model Random Forest\n",
      "bow cross_val 0.9452914798206278\n",
      "bow accuracy 0.9766816143497757\n",
      "bow f1 0.8984375 \n",
      "\n",
      "tfidf cross_val 0.9497757847533632\n",
      "tfidf accuracy 0.9775784753363229\n",
      "tfidf f1 0.9027237354085603 \n",
      "\n",
      "training model MultiLayer Perceptron\n",
      "bow cross_val 0.9721973094170403\n",
      "bow accuracy 0.9874439461883409\n",
      "bow f1 0.9477611940298507 \n",
      "\n",
      "tfidf cross_val 0.9739910313901345\n",
      "tfidf accuracy 0.9856502242152466\n",
      "tfidf f1 0.9407407407407408 \n",
      "\n"
     ]
    }
   ],
   "execution_count": 103
  },
  {
   "metadata": {},
   "cell_type": "markdown",
   "source": [
    "**Quelle méthode (BoW ou TF-IDF) donne les meilleurs résultats ? Pourquoi pensez- vous que c’est le cas ?** \n",
    "\n",
    "Un cross-validation score plus élevé indique que le modèle performe mieux sur des données non vues. Un accuracy plus élevé indique que le modèle fait des prédictions assez proches de leur valeur réelle. Un F1 score plus élevé indique que le modèle fait moins de faux positifs et faux négatifs.\n",
    "\n",
    "En regardant les scores de la cellule ci-dessus, on constate que:\n",
    "\n",
    "Pour LR: on a une meilleure performance avec BoW sur toutes les métriques \n",
    "Pour RF: on a une légèrement meilleure performance avec TF-IDF sur toutes les métriques\n",
    "Pour MLP: on a une légèrement meilleure performance avec BoW sur l'accuracy et le F1 score, mais pas pour le cross-validation score\n",
    "\n",
    "On pense que le Random Forest aurait une meilleure performance sur TF-IDF, car cette méthode capture les relations entre les tokens et ainsi facilite la prise de décision pour les arbres du modèle. BoW fonctionne mieux pour des modèles linéaires simples, comme la régression logistique, car il nous donne simplement la fréquence de chaque mot dans le corpus, ce qui est suffisant pour des modèles linéaires plus simples. La performance du MLP est mixte sur les deux méthodes (à un centième près pour le cross-validation score), car avec BoW un biais peut être induit avec les stopwords, tandis que TF-IDF permet au modèle de mieux distinguer les mots importants des documents. [review?!??!?]\n"
   ],
   "id": "92c89f9e11c19bca"
  },
  {
   "metadata": {
    "ExecuteTime": {
     "end_time": "2025-05-02T18:22:14.409183Z",
     "start_time": "2025-05-02T18:22:14.406819Z"
    }
   },
   "cell_type": "code",
   "source": [
    "# Voyons si la performance change si on diminue max_features \n",
    "import matplotlib.pyplot as plt\n",
    "\n",
    "max_features_values = [1000,2000,3000,4000,5000]\n",
    "\n",
    "\n",
    "for model in models:\n",
    "\n",
    "    cv_score = {\n",
    "        'BoW': [], \n",
    "        'TF-IDF': []\n",
    "    }\n",
    "    accuracy = {\n",
    "        'BoW': [], \n",
    "        'TF-IDF': []\n",
    "    }\n",
    "    f1 = {\n",
    "        'BoW': [], \n",
    "        'TF-IDF': []\n",
    "    }\n",
    "\n",
    "    print(\"training model \" + model)\n",
    "\n",
    "    for v in max_features_values:\n",
    "        fm = main.bag_of_words(df['text'], v)\n",
    "        fm_train, fm_test, y1_train, y1_test = train_test_split(fm, df['label'], random_state=42)\n",
    "\n",
    "        tfidf = main.tf_idf(df['text'], v)\n",
    "        tfidf_train, tfidf_test, y2_train, y2_test = train_test_split(tfidf, df['label'], random_state=42)\n",
    "\n",
    "        classifier = models[model]\n",
    "        bow_cross_val, bow_accuracy, bow_f1 = main.train_model(classifier, fm_train, y1_train, fm_test, y1_test)\n",
    "\n",
    "        cv_score['BoW'].append(bow_cross_val)\n",
    "        accuracy['BoW'].append(bow_accuracy)\n",
    "        f1['BoW'].append(bow_f1)\n",
    "\n",
    "        tfidf_cross_val, tfidf_accuracy, tfidf_f1 = main.train_model(classifier, tfidf_train, y2_train, tfidf_test, y2_test)\n",
    "\n",
    "        cv_score['TF-IDF'].append(tfidf_cross_val)\n",
    "        accuracy['TF-IDF'].append(tfidf_accuracy)\n",
    "        f1['TF-IDF'].append(tfidf_f1)\n",
    "\n",
    "    fig, ax = plt.subplots(1, 3, figsize=(18, 5))\n",
    "\n",
    "    # Construire les graphiques des métriques pour chaque modèle \n",
    "    for label, y in cv_score.items():\n",
    "        ax[0].plot(max_features_values, y, label=label)\n",
    "\n",
    "    ax[0].legend()\n",
    "    ax[0].set_xlabel('# de max_features')\n",
    "    ax[0].set_ylabel('cross-val score')\n",
    "    ax[0].set_title('CV scores')\n",
    "\n",
    "    for label, y in accuracy.items():\n",
    "        ax[1].plot(max_features_values, y, label=label)\n",
    "\n",
    "    ax[1].legend()\n",
    "    ax[1].set_xlabel('# de max_features')\n",
    "    ax[1].set_ylabel('accuracy score')\n",
    "    ax[1].set_title('Accuracy scores')\n",
    "\n",
    "    for label, y in f1.items():\n",
    "        ax[2].plot(max_features_values, y, label=label)\n",
    "\n",
    "    ax[2].legend()\n",
    "    ax[2].set_xlabel('# de max_features')\n",
    "    ax[2].set_ylabel('f1score')\n",
    "    ax[2].set_title('F1 scores')\n",
    "\n",
    "    fig.suptitle(model)"
   ],
   "id": "c97ada06f98ca052",
   "outputs": [],
   "execution_count": 104
  },
  {
   "metadata": {},
   "cell_type": "markdown",
   "source": [
    "**Que se passe-t-il pour les metriques si vous diminuez max_features ? (Montrez un graphique)**\n",
    "\n",
    "[ Roulez la cellule ci-dessus si rien ne s'affiche, dure ~2min] \n",
    "\n",
    "On observe que la performance diminue considérablement pour TF-IDF lorsqu'on augmente max_features, alrs que les scores pour BoW restent assez consistants mais tendent vers le bas. Cette tendance est évidente pour MLP et LR, mais elle varie beaucoup plus pour random forest (comme nous avons vu dans la question 1, où il arrive que l'accuracy et le F1 pour BoW soit supérieur parfois à TF-IDF). Toutefois, comme pour la question 1, BoW semble toujours mieux performer pour MLP et LR. On remarque une chute de la performance du MLP quand max_features dépasse 4000, peut-être à cause d'un surapprentissage. \n"
   ],
   "id": "ed4d55d3a6baafbb"
  },
  {
   "metadata": {},
   "cell_type": "markdown",
   "source": [
    "### Partie 2 ###\n",
    "\n"
   ],
   "id": "a16e3a4cc63a73a3"
  },
  {
   "metadata": {
    "ExecuteTime": {
     "end_time": "2025-05-02T18:23:43.625485Z",
     "start_time": "2025-05-02T18:22:14.444922Z"
    }
   },
   "cell_type": "code",
   "source": [
    "vector = []\n",
    "\n",
    "batch_size = 32\n",
    "for i in tqdm(range(0, len(df), batch_size), desc=\"processing batches\"):\n",
    "    batch = df[\"text\"][i:i+batch_size]\n",
    "    vector.extend(main.to_embedding(batch))\n",
    "\n",
    "embed_train, embed_test, y3_train, y3_test = train_test_split(vector, df[\"label\"], random_state=42)\n",
    "\n",
    "for model in models:\n",
    "    print(\"training model \" + model)\n",
    "    classifier = models[model]\n",
    "\n",
    "    embed_cross_val, embed_accuracy, embed_f1 = main.train_model(classifier, embed_train, y3_train, embed_test, y3_test)\n",
    "    print('embed_cross_val', embed_cross_val, \"\\n\")\n",
    "\n",
    "    scores_global[model].append([embed_cross_val, embed_accuracy, embed_f1])\n",
    "    print(scores_global)"
   ],
   "id": "c3323b0918545dbd",
   "outputs": [
    {
     "name": "stderr",
     "output_type": "stream",
     "text": [
      "processing batches: 100%|██████████| 140/140 [01:19<00:00,  1.75it/s]\n"
     ]
    },
    {
     "name": "stdout",
     "output_type": "stream",
     "text": [
      "training model Logistic Regression\n",
      "embed_cross_val 0.9605381165919281 \n",
      "\n",
      "{'Logistic Regression': [[np.float64(0.9713004484304933), 0.9874439461883409, np.float64(0.9477611940298507)], [np.float64(0.8968609865470853), 0.957847533632287, np.float64(0.8)], [np.float64(0.9605381165919281), 0.97847533632287, np.float64(0.9097744360902256)]], 'Random Forest': [[np.float64(0.9452914798206278), 0.9766816143497757, np.float64(0.8984375)], [np.float64(0.9497757847533632), 0.9775784753363229, np.float64(0.9027237354085603)]], 'MultiLayer Perceptron': [[np.float64(0.9721973094170403), 0.9874439461883409, np.float64(0.9477611940298507)], [np.float64(0.9739910313901345), 0.9856502242152466, np.float64(0.9407407407407408)]]}\n",
      "training model Random Forest\n",
      "embed_cross_val 0.9255605381165919 \n",
      "\n",
      "{'Logistic Regression': [[np.float64(0.9713004484304933), 0.9874439461883409, np.float64(0.9477611940298507)], [np.float64(0.8968609865470853), 0.957847533632287, np.float64(0.8)], [np.float64(0.9605381165919281), 0.97847533632287, np.float64(0.9097744360902256)]], 'Random Forest': [[np.float64(0.9452914798206278), 0.9766816143497757, np.float64(0.8984375)], [np.float64(0.9497757847533632), 0.9775784753363229, np.float64(0.9027237354085603)], [np.float64(0.9255605381165919), 0.9623318385650225, np.float64(0.825)]], 'MultiLayer Perceptron': [[np.float64(0.9721973094170403), 0.9874439461883409, np.float64(0.9477611940298507)], [np.float64(0.9739910313901345), 0.9856502242152466, np.float64(0.9407407407407408)]]}\n",
      "training model MultiLayer Perceptron\n",
      "embed_cross_val 0.9811659192825113 \n",
      "\n",
      "{'Logistic Regression': [[np.float64(0.9713004484304933), 0.9874439461883409, np.float64(0.9477611940298507)], [np.float64(0.8968609865470853), 0.957847533632287, np.float64(0.8)], [np.float64(0.9605381165919281), 0.97847533632287, np.float64(0.9097744360902256)]], 'Random Forest': [[np.float64(0.9452914798206278), 0.9766816143497757, np.float64(0.8984375)], [np.float64(0.9497757847533632), 0.9775784753363229, np.float64(0.9027237354085603)], [np.float64(0.9255605381165919), 0.9623318385650225, np.float64(0.825)]], 'MultiLayer Perceptron': [[np.float64(0.9721973094170403), 0.9874439461883409, np.float64(0.9477611940298507)], [np.float64(0.9739910313901345), 0.9856502242152466, np.float64(0.9407407407407408)], [np.float64(0.9811659192825113), 0.9856502242152466, np.float64(0.9428571428571428)]]}\n"
     ]
    }
   ],
   "execution_count": 105
  },
  {
   "metadata": {
    "ExecuteTime": {
     "end_time": "2025-05-02T18:23:43.884659Z",
     "start_time": "2025-05-02T18:23:43.731116Z"
    }
   },
   "cell_type": "code",
   "source": [
    "metrics = ['CV', 'Accuracy', 'F1']\n",
    "variants = ['BoW', 'TF-IDF', 'Sentence transformers']\n",
    "num_variants = len(variants)\n",
    "model_names = list(scores_global.keys())\n",
    "x = np.arange(len(model_names))\n",
    "bar_width = 0.2  # smaller width to fit 3 bars\n",
    "\n",
    "# Extract values for each metric and each variant\n",
    "metric_values = {metric: [[] for _ in range(num_variants)] for metric in metrics}\n",
    "\n",
    "for values in scores_global.values():\n",
    "    for i, metric in enumerate(metrics):\n",
    "        for j in range(num_variants):\n",
    "            metric_values[metric][j].append(values[j][i])\n",
    "\n",
    "# Plotting\n",
    "fig, axes = plt.subplots(1, 3, figsize=(15, 5))\n",
    "colors = ['blue', 'green', 'orange']\n",
    "\n",
    "for i, metric in enumerate(metrics):\n",
    "    ax = axes[i]\n",
    "    for j in range(num_variants):\n",
    "        offset = (j - 1) * bar_width  # positions: -bar_width, 0, +bar_width\n",
    "        ax.bar(x + offset, metric_values[metric][j], width=bar_width, label=f'{variants[j]}', color=colors[j])\n",
    "\n",
    "    ax.set_title(f'{metric}')\n",
    "    ax.set_xticks(x)\n",
    "    ax.set_xticklabels(model_names)\n",
    "    ax.set_ylabel(metric)\n",
    "    ax.legend()\n",
    "\n",
    "fig.suptitle('Comparaison des performances sur les 3 embeddings')\n",
    "plt.tight_layout()\n",
    "plt.show()"
   ],
   "id": "e0a0dd635c977d65",
   "outputs": [
    {
     "data": {
      "text/plain": [
       "<Figure size 1500x500 with 3 Axes>"
      ],
      "image/png": "[encoded data removed]"
     },
     "metadata": {},
     "output_type": "display_data"
    }
   ],
   "execution_count": 106
  },
  {
   "metadata": {},
   "cell_type": "markdown",
   "source": [
    "[SVP roulez les 2 cellules ci-dessus si aucun graphique est affiché!]\n",
    "\n",
    "**Comment les embeddings se comparent-ils à BoW et TF-IDF en termes de performance?**\n",
    "\n",
    "Dans la plupart des cas, la performance des embeddings sur les différentes modèles est en fait inférieure à BoW ou TF-IDF. C'est seulement pour le MLP que son F1 et son accuracy sont un peu meilleurs que les 2 autres cas, puis qu'il a notamment un rappel et une précision parfaits avec le nouvel embedding. \n",
    "\n",
    "**Quels sont les avantages et inconvénients d’utiliser des embeddings pré-entraînés ?** \n",
    "\n",
    "Avantages: \n",
    "- Moins coûteux: pour entraîner un embedding *from scratch*, il faut avoir une énorme quantité de données (beaucoup de tokens, beaucoup de paramètres) qui sont très éparses, ce qui peut être coûteux à acquérir puis à traverser pour avoir des résultats significatifs. Avoir un embedding pré-entraîné enlève toute cette première étape.\n",
    "- Meilleure performance: Les poids associés aux mots sont déjà favorables, cela facilitera donc l'apprentissage d'un classificateur et ce dernier aura probablement de meilleurs résultats On économise également du temps, car il ne faut pas tester et ajuster les paramètres de nos embeddings. \n",
    "\n",
    "Inconvénients\n",
    "- OOV : Comme les embeddings pré-entrainés apprennent sur un vocabulaire donné, mais notre corpus peut différer de l'ensemble d'entraînement de l'embedding.\n",
    "- Biais: L'embedding peut également être entraîné sur des données biaisées, sur lesquelles on n'a pas de contrôle \n",
    "- Coût: Les embeddings plus larges pourraient être coûteux à exécuter dû à ce large nombre de paramètres. \n",
    "\n",
    "\n",
    "https://www.geeksforgeeks.org/pre-trained-word-embedding-in-nlp/ \n",
    "https://www.analyticsvidhya.com/blog/2020/03/pretrained-word-embeddings-nlp/ \n",
    "https://datascience.stackexchange.com/questions/92856/the-reason-behind-using-a-pre-trained-model\n",
    "\n",
    "\n",
    "### Partie 3 ###\n"
   ],
   "id": "154d18fb21bc9b9"
  },
  {
   "metadata": {
    "ExecuteTime": {
     "end_time": "2025-05-02T18:28:02.699080Z",
     "start_time": "2025-05-02T18:28:02.691092Z"
    }
   },
   "cell_type": "code",
   "source": [
    "# put everything from scores global in one big array \n",
    "for k in scores_global:\n",
    "    temp = []\n",
    "    for t in scores_global[k]:\n",
    "        for e in t:\n",
    "            temp.append(e)\n",
    "    scores_global[k] = temp"
   ],
   "id": "c82e76cc54680393",
   "outputs": [],
   "execution_count": 110
  },
  {
   "metadata": {
    "ExecuteTime": {
     "end_time": "2025-05-02T18:41:11.067743Z",
     "start_time": "2025-05-02T18:40:43.372926Z"
    }
   },
   "cell_type": "code",
   "source": [
    "scorers = {\n",
    "        \"acc\": accuracy_score,\n",
    "        \"F1\": f1_score,\n",
    "}\n",
    "\n",
    "weights = []\n",
    "\n",
    "for scorer in scorers:\n",
    "    accuracy, f1, poids = main.super_learner(tfidf_train, y2_train, tfidf_test, y2_test, scorers[scorer])\n",
    "    weights.append(poids)\n",
    "    print(accuracy, f1)\n"
   ],
   "id": "61028a3a5325411c",
   "outputs": [
    {
     "name": "stdout",
     "output_type": "stream",
     "text": [
      "\n",
      "Fitting 2 layers\n",
      "Fit complete                        | 00:00:22\n",
      "\n",
      "Predicting 2 layers\n",
      "Predict complete                    | 00:00:04\n"
     ]
    },
    {
     "ename": "AttributeError",
     "evalue": "'Sequential' object has no attribute '_meta_estimator'",
     "output_type": "error",
     "traceback": [
      "\u001B[0;31m---------------------------------------------------------------------------\u001B[0m",
      "\u001B[0;31mAttributeError\u001B[0m                            Traceback (most recent call last)",
      "Cell \u001B[0;32mIn[129], line 9\u001B[0m\n\u001B[1;32m      6\u001B[0m weights \u001B[38;5;241m=\u001B[39m []\n\u001B[1;32m      8\u001B[0m \u001B[38;5;28;01mfor\u001B[39;00m scorer \u001B[38;5;129;01min\u001B[39;00m scorers:\n\u001B[0;32m----> 9\u001B[0m     accuracy, f1, poids \u001B[38;5;241m=\u001B[39m \u001B[43mmain\u001B[49m\u001B[38;5;241;43m.\u001B[39;49m\u001B[43msuper_learner\u001B[49m\u001B[43m(\u001B[49m\u001B[43mtfidf_train\u001B[49m\u001B[43m,\u001B[49m\u001B[43m \u001B[49m\u001B[43my2_train\u001B[49m\u001B[43m,\u001B[49m\u001B[43m \u001B[49m\u001B[43mtfidf_test\u001B[49m\u001B[43m,\u001B[49m\u001B[43m \u001B[49m\u001B[43my2_test\u001B[49m\u001B[43m,\u001B[49m\u001B[43m \u001B[49m\u001B[43mscorers\u001B[49m\u001B[43m[\u001B[49m\u001B[43mscorer\u001B[49m\u001B[43m]\u001B[49m\u001B[43m)\u001B[49m\n\u001B[1;32m     10\u001B[0m     weights\u001B[38;5;241m.\u001B[39mappend(poids)\n\u001B[1;32m     11\u001B[0m     \u001B[38;5;28mprint\u001B[39m(accuracy, f1)\n",
      "File \u001B[0;32m~/Desktop/uni/IFT3335/TP2_IFT3335/TP2_code/main.py:91\u001B[0m, in \u001B[0;36msuper_learner\u001B[0;34m(x_train, y_train, x_test, y_test, scorer)\u001B[0m\n\u001B[1;32m     88\u001B[0m accuracy \u001B[38;5;241m=\u001B[39m accuracy_score(y_test, y_pred)\n\u001B[1;32m     89\u001B[0m f1_score \u001B[38;5;241m=\u001B[39m metrics\u001B[38;5;241m.\u001B[39mf1_score(y_test, y_pred)\n\u001B[0;32m---> 91\u001B[0m meta_model \u001B[38;5;241m=\u001B[39m \u001B[43mensemble\u001B[49m\u001B[38;5;241;43m.\u001B[39;49m\u001B[43m_backend\u001B[49m\u001B[38;5;241;43m.\u001B[39;49m\u001B[43m_meta_estimator\u001B[49m\n\u001B[1;32m     92\u001B[0m weights \u001B[38;5;241m=\u001B[39m meta_model\u001B[38;5;241m.\u001B[39mcoef_ \u001B[38;5;28;01mif\u001B[39;00m \u001B[38;5;28mhasattr\u001B[39m(meta_model, \u001B[38;5;124m\"\u001B[39m\u001B[38;5;124mcoef_\u001B[39m\u001B[38;5;124m\"\u001B[39m) \u001B[38;5;28;01melse\u001B[39;00m \u001B[38;5;28;01mNone\u001B[39;00m\n\u001B[1;32m     93\u001B[0m \u001B[38;5;28;01mreturn\u001B[39;00m accuracy, f1_score, weights\n",
      "\u001B[0;31mAttributeError\u001B[0m: 'Sequential' object has no attribute '_meta_estimator'"
     ]
    }
   ],
   "execution_count": 129
  },
  {
   "metadata": {
    "ExecuteTime": {
     "end_time": "2025-05-02T18:31:20.228592Z",
     "start_time": "2025-05-02T18:31:20.220479Z"
    }
   },
   "cell_type": "code",
   "source": [
    "scores_global[\"Super Learner\"]=[None, None, None, None, accuracy, f1, None, None, None]\n",
    "\n",
    "df_global = pd.DataFrame.from_dict(scores_global, orient='index',\n",
    "                                   columns=[\"bow cross-val\", \"bow accuracy\", \"bow f1\",\n",
    "                                            \"tfidf cross-val\", \"tfidf accuracy\", \"tfidf f1\",\n",
    "                                            \"embed cross-val\", \"embed accuracy\", \"embed f1\"])"
   ],
   "id": "52511f5df0cedfc1",
   "outputs": [],
   "execution_count": 119
  },
  {
   "metadata": {
    "ExecuteTime": {
     "end_time": "2025-05-02T18:31:21.289079Z",
     "start_time": "2025-05-02T18:31:21.282809Z"
    }
   },
   "cell_type": "code",
   "source": "df_global",
   "id": "a26922bd236e60b",
   "outputs": [
    {
     "data": {
      "text/plain": [
       "                       bow cross-val  bow accuracy    bow f1  tfidf cross-val  \\\n",
       "Logistic Regression         0.971300      0.987444  0.947761         0.896861   \n",
       "Random Forest               0.945291      0.976682  0.898438         0.949776   \n",
       "MultiLayer Perceptron       0.972197      0.987444  0.947761         0.973991   \n",
       "Super Learner                    NaN           NaN       NaN              NaN   \n",
       "\n",
       "                       tfidf accuracy  tfidf f1  embed cross-val  \\\n",
       "Logistic Regression          0.957848  0.800000         0.960538   \n",
       "Random Forest                0.977578  0.902724         0.925561   \n",
       "MultiLayer Perceptron        0.985650  0.940741         0.981166   \n",
       "Super Learner                0.979372  0.911197              NaN   \n",
       "\n",
       "                       embed accuracy  embed f1  \n",
       "Logistic Regression          0.978475  0.909774  \n",
       "Random Forest                0.962332  0.825000  \n",
       "MultiLayer Perceptron        0.985650  0.942857  \n",
       "Super Learner                     NaN       NaN  "
      ],
      "text/html": [
       "<div>\n",
       "<style scoped>\n",
       "    .dataframe tbody tr th:only-of-type {\n",
       "        vertical-align: middle;\n",
       "    }\n",
       "\n",
       "    .dataframe tbody tr th {\n",
       "        vertical-align: top;\n",
       "    }\n",
       "\n",
       "    .dataframe thead th {\n",
       "        text-align: right;\n",
       "    }\n",
       "</style>\n",
       "<table border=\"1\" class=\"dataframe\">\n",
       "  <thead>\n",
       "    <tr style=\"text-align: right;\">\n",
       "      <th></th>\n",
       "      <th>bow cross-val</th>\n",
       "      <th>bow accuracy</th>\n",
       "      <th>bow f1</th>\n",
       "      <th>tfidf cross-val</th>\n",
       "      <th>tfidf accuracy</th>\n",
       "      <th>tfidf f1</th>\n",
       "      <th>embed cross-val</th>\n",
       "      <th>embed accuracy</th>\n",
       "      <th>embed f1</th>\n",
       "    </tr>\n",
       "  </thead>\n",
       "  <tbody>\n",
       "    <tr>\n",
       "      <th>Logistic Regression</th>\n",
       "      <td>0.971300</td>\n",
       "      <td>0.987444</td>\n",
       "      <td>0.947761</td>\n",
       "      <td>0.896861</td>\n",
       "      <td>0.957848</td>\n",
       "      <td>0.800000</td>\n",
       "      <td>0.960538</td>\n",
       "      <td>0.978475</td>\n",
       "      <td>0.909774</td>\n",
       "    </tr>\n",
       "    <tr>\n",
       "      <th>Random Forest</th>\n",
       "      <td>0.945291</td>\n",
       "      <td>0.976682</td>\n",
       "      <td>0.898438</td>\n",
       "      <td>0.949776</td>\n",
       "      <td>0.977578</td>\n",
       "      <td>0.902724</td>\n",
       "      <td>0.925561</td>\n",
       "      <td>0.962332</td>\n",
       "      <td>0.825000</td>\n",
       "    </tr>\n",
       "    <tr>\n",
       "      <th>MultiLayer Perceptron</th>\n",
       "      <td>0.972197</td>\n",
       "      <td>0.987444</td>\n",
       "      <td>0.947761</td>\n",
       "      <td>0.973991</td>\n",
       "      <td>0.985650</td>\n",
       "      <td>0.940741</td>\n",
       "      <td>0.981166</td>\n",
       "      <td>0.985650</td>\n",
       "      <td>0.942857</td>\n",
       "    </tr>\n",
       "    <tr>\n",
       "      <th>Super Learner</th>\n",
       "      <td>NaN</td>\n",
       "      <td>NaN</td>\n",
       "      <td>NaN</td>\n",
       "      <td>NaN</td>\n",
       "      <td>0.979372</td>\n",
       "      <td>0.911197</td>\n",
       "      <td>NaN</td>\n",
       "      <td>NaN</td>\n",
       "      <td>NaN</td>\n",
       "    </tr>\n",
       "  </tbody>\n",
       "</table>\n",
       "</div>"
      ]
     },
     "execution_count": 120,
     "metadata": {},
     "output_type": "execute_result"
    }
   ],
   "execution_count": 120
  },
  {
   "metadata": {
    "ExecuteTime": {
     "end_time": "2025-05-02T19:19:18.518923Z",
     "start_time": "2025-05-02T19:19:18.276550Z"
    }
   },
   "cell_type": "code",
   "source": [
    "print(df_global)\n",
    "df_global_transposed = df_global.T\n",
    "# ax1 = df_global.plot.bar()\n",
    "ax2 = df_global_transposed.plot.bar()\n",
    "\n",
    "# ax1.legend(loc='center left', bbox_to_anchor=(1, 0.5))\n",
    "ax2.legend(loc='center left', bbox_to_anchor=(1, 0.5))\n",
    "#fig1 = ax1.get_figure()\n",
    "#fig1.savefig(\"./scores1.png\")\n",
    "ax2.set_title(\"Comparaison des métriques pour chaque modèle\")\n",
    "fig2 = ax2.get_figure()\n",
    "fig2.savefig(\"./scores2.png\")\n",
    "\n"
   ],
   "id": "f14e632493e6dacf",
   "outputs": [
    {
     "name": "stdout",
     "output_type": "stream",
     "text": [
      "                       bow cross-val  bow accuracy    bow f1  tfidf cross-val  \\\n",
      "Logistic Regression         0.971300      0.987444  0.947761         0.896861   \n",
      "Random Forest               0.945291      0.976682  0.898438         0.949776   \n",
      "MultiLayer Perceptron       0.972197      0.987444  0.947761         0.973991   \n",
      "Super Learner                    NaN           NaN       NaN              NaN   \n",
      "\n",
      "                       tfidf accuracy  tfidf f1  embed cross-val  \\\n",
      "Logistic Regression          0.957848  0.800000         0.960538   \n",
      "Random Forest                0.977578  0.902724         0.925561   \n",
      "MultiLayer Perceptron        0.985650  0.940741         0.981166   \n",
      "Super Learner                0.979372  0.911197              NaN   \n",
      "\n",
      "                       embed accuracy  embed f1  \n",
      "Logistic Regression          0.978475  0.909774  \n",
      "Random Forest                0.962332  0.825000  \n",
      "MultiLayer Perceptron        0.985650  0.942857  \n",
      "Super Learner                     NaN       NaN  \n"
     ]
    },
    {
     "data": {
      "text/plain": [
       "<Figure size 640x480 with 1 Axes>"
      ],
      "image/png": "[encoded data removed]"
     },
     "metadata": {},
     "output_type": "display_data"
    }
   ],
   "execution_count": 133
  },
  {
   "metadata": {},
   "cell_type": "markdown",
   "source": [
    "**Commenter les graphiques obtenus**\n",
    "\n",
    "Le Super Learner a des performances assez similaires aux autres modèles, semblables au MLP ce qui fait du sens. [EXPLIQUER PK??]\n",
    "\n",
    "**Quels sont les poids que votre méta-modèle a attribués à chaque modèle de base ?**\n",
    "\n",
    "Malheureusement la version actuelle de mlens proposée dans l'énoncé ne nous permet pas d'accéder aux attributs nécessaires pour obtenir cette information. "
   ],
   "id": "77c3e856f653f46"
  }
 ],
 "metadata": {
  "kernelspec": {
   "display_name": "Python 3",
   "language": "python",
   "name": "python3"
  },
  "language_info": {
   "codemirror_mode": {
    "name": "ipython",
    "version": 2
   },
   "file_extension": ".py",
   "mimetype": "text/x-python",
   "name": "python",
   "nbconvert_exporter": "python",
   "pygments_lexer": "ipython2",
   "version": "2.7.6"
  }
 },
 "nbformat": 4,
 "nbformat_minor": 5
}
