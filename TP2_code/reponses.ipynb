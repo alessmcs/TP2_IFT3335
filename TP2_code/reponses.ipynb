{
 "cells": [
  {
   "metadata": {},
   "cell_type": "markdown",
   "source": [
    "Quelle méthode (BoW ou TF-IDF) donne les meilleurs résultats ? Pourquoi pensez- vous que c’est le cas ?\n",
    "LR: bow \n",
    "\n",
    "\n",
    "Que se passe-t-il pour les metriques si vous diminuez max features ? (Montrez un graphique)"
   ],
   "id": "92c89f9e11c19bca"
  },
  {
   "metadata": {
    "ExecuteTime": {
     "end_time": "2025-05-01T20:44:13.269120Z",
     "start_time": "2025-05-01T20:43:53.908604Z"
    }
   },
   "cell_type": "code",
   "source": [
    "import main\n",
    "\n"
   ],
   "id": "2c2a12ff4b9bacd1",
   "outputs": [
    {
     "name": "stderr",
     "output_type": "stream",
     "text": [
      "[MLENS] backend: threading\n",
      "C:\\_Code\\courses\\AI\\TP2_IFT3335\\.venv\\Lib\\site-packages\\tqdm\\auto.py:21: TqdmWarning: IProgress not found. Please update jupyter and ipywidgets. See https://ipywidgets.readthedocs.io/en/stable/user_install.html\n",
      "  from .autonotebook import tqdm as notebook_tqdm\n"
     ]
    }
   ],
   "execution_count": 1
  }
 ],
 "metadata": {
  "kernelspec": {
   "display_name": "Python 3",
   "language": "python",
   "name": "python3"
  },
  "language_info": {
   "codemirror_mode": {
    "name": "ipython",
    "version": 2
   },
   "file_extension": ".py",
   "mimetype": "text/x-python",
   "name": "python",
   "nbconvert_exporter": "python",
   "pygments_lexer": "ipython2",
   "version": "2.7.6"
  }
 },
 "nbformat": 4,
 "nbformat_minor": 5
}
